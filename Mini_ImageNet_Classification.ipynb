{
  "nbformat": 4,
  "nbformat_minor": 0,
  "metadata": {
    "colab": {
      "name": "Mini_ImageNet_Classification.ipynb",
      "provenance": [],
      "toc_visible": true,
      "include_colab_link": true
    },
    "kernelspec": {
      "name": "python3",
      "display_name": "Python 3"
    },
    "accelerator": "GPU"
  },
  "cells": [
    {
      "cell_type": "markdown",
      "metadata": {
        "id": "view-in-github",
        "colab_type": "text"
      },
      "source": [
        "<a href=\"https://colab.research.google.com/github/ChoiJK/JK_Mini_ImgNet_Classification/blob/master/Mini_ImageNet_Classification.ipynb\" target=\"_parent\"><img src=\"https://colab.research.google.com/assets/colab-badge.svg\" alt=\"Open In Colab\"/></a>"
      ]
    },
    {
      "cell_type": "markdown",
      "metadata": {
        "id": "Bys9NwM5mx-b",
        "colab_type": "text"
      },
      "source": [
        "### Import"
      ]
    },
    {
      "cell_type": "code",
      "metadata": {
        "id": "CUarHCPlnECM",
        "colab_type": "code",
        "colab": {}
      },
      "source": [
        "from __future__ import absolute_import, division, print_function, unicode_literals\n",
        "try:\n",
        "  # Colab only\n",
        "  %tensorflow_version 2.x\n",
        "except Exception:\n",
        "  pass\n",
        "\n",
        "import tensorflow as tf\n",
        "from tensorflow import keras\n",
        "from matplotlib import pyplot as plt\n",
        "import numpy as np\n",
        "import random\n",
        "import os\n",
        "\n",
        "from google.colab import drive"
      ],
      "execution_count": 0,
      "outputs": []
    },
    {
      "cell_type": "markdown",
      "metadata": {
        "id": "d2eiNL5BnNIe",
        "colab_type": "text"
      },
      "source": [
        "### DataSet Load"
      ]
    },
    {
      "cell_type": "code",
      "metadata": {
        "id": "RY0hpdtyoSDO",
        "colab_type": "code",
        "colab": {
          "base_uri": "https://localhost:8080/",
          "height": 35
        },
        "outputId": "0924c694-fa06-41c1-8d5e-b21e76cc3106"
      },
      "source": [
        "drive.mount('/content/gdrive')"
      ],
      "execution_count": 9,
      "outputs": [
        {
          "output_type": "stream",
          "text": [
            "Drive already mounted at /content/gdrive; to attempt to forcibly remount, call drive.mount(\"/content/gdrive\", force_remount=True).\n"
          ],
          "name": "stdout"
        }
      ]
    },
    {
      "cell_type": "code",
      "metadata": {
        "id": "-eQ8cFHsnSBL",
        "colab_type": "code",
        "colab": {}
      },
      "source": [
        "#load mini-imagenet dataset file from www.youplayai.com\n",
        "train= np.load('./gdrive/My Drive/_DL/DataSet/Mini_ImageNet/train.npy')\n",
        "val = np.load('./gdrive/My Drive/_DL/DataSet/Mini_ImageNet/val.npy')\n",
        "#test = np.load('test.npy')\n",
        "train_label= np.load('./gdrive/My Drive/_DL/DataSet/Mini_ImageNet/train_label.npy')\n",
        "val_label = np.load('./gdrive/My Drive/_DL/DataSet/Mini_ImageNet/val_label.npy')\n",
        "#test_label = np.load('test_label.npy')"
      ],
      "execution_count": 0,
      "outputs": []
    },
    {
      "cell_type": "code",
      "metadata": {
        "id": "c70Oysl3sw-8",
        "colab_type": "code",
        "colab": {
          "base_uri": "https://localhost:8080/",
          "height": 35
        },
        "outputId": "55c87a10-9c5c-4587-9115-f2e1e711c945"
      },
      "source": [
        "print([train.shape[0]*train.shape[1], train.shape[2], train.shape[3], train.shape[4]])"
      ],
      "execution_count": 24,
      "outputs": [
        {
          "output_type": "stream",
          "text": [
            "[50000, 84, 84, 3]\n"
          ],
          "name": "stdout"
        }
      ]
    },
    {
      "cell_type": "code",
      "metadata": {
        "id": "p7FX2PLfs1nq",
        "colab_type": "code",
        "colab": {}
      },
      "source": [
        "train = np.reshape(train, [train.shape[0]*train.shape[1], train.shape[2], train.shape[3], train.shape[4]])\n",
        "train_label = np.reshape(train_label, [train_label.shape[0]*train_label.shape[1]])\n",
        "val = np.reshape(val, [val.shape[0]*val.shape[1], val.shape[2], val.shape[3], val.shape[4]])\n",
        "val_label = np.reshape(val_label, [val_label.shape[0]*val_label.shape[1]])\n",
        "#test = np.reshape(test, [test.shape[0]*test.shape[1], test.shape[2], test.shape[3], test.shape[4]])\n",
        "#test_label = np.reshape(test_label, [test_label.shape[0]*test_label.shape[1]])"
      ],
      "execution_count": 0,
      "outputs": []
    },
    {
      "cell_type": "code",
      "metadata": {
        "id": "g1U5V8FXs498",
        "colab_type": "code",
        "colab": {
          "base_uri": "https://localhost:8080/",
          "height": 53
        },
        "outputId": "6273cea6-6f5b-4a8b-8658-b23762718f73"
      },
      "source": [
        "print(train.shape, train_label.shape)\n",
        "print(val.shape, val_label.shape)\n",
        "#print(test.shape, test_label.shape)"
      ],
      "execution_count": 26,
      "outputs": [
        {
          "output_type": "stream",
          "text": [
            "(50000, 84, 84, 3) (50000,)\n",
            "(5000, 84, 84, 3) (5000,)\n"
          ],
          "name": "stdout"
        }
      ]
    },
    {
      "cell_type": "code",
      "metadata": {
        "id": "ZeZKOcYDs9BJ",
        "colab_type": "code",
        "colab": {}
      },
      "source": [
        "randomize = np.arange(len(train))\n",
        "np.random.shuffle(randomize)\n",
        "train = train[randomize]\n",
        "train_label = train_label[randomize]"
      ],
      "execution_count": 0,
      "outputs": []
    },
    {
      "cell_type": "markdown",
      "metadata": {
        "id": "wv2UFxJmtAUC",
        "colab_type": "text"
      },
      "source": [
        "### Data Pipeline"
      ]
    },
    {
      "cell_type": "code",
      "metadata": {
        "id": "eaH1pLH5tDdE",
        "colab_type": "code",
        "colab": {}
      },
      "source": [
        "def format_example(image, label):\n",
        "    print(\"Format example called!\")\n",
        "    image = tf.cast(image, tf.float32)\n",
        "    image = image / 255.0\n",
        "    return image, label"
      ],
      "execution_count": 0,
      "outputs": []
    },
    {
      "cell_type": "code",
      "metadata": {
        "id": "tTUJuoChtFyz",
        "colab_type": "code",
        "colab": {}
      },
      "source": [
        "def augment_data(image, label):\n",
        "  print(\"Augment data called!\")\n",
        "  image = tf.image.random_flip_left_right(image)\n",
        "  image = tf.image.random_contrast(image, lower=0.0, upper=1.0)\n",
        "  # Add more augmentation of your choice\n",
        "  return image, label"
      ],
      "execution_count": 0,
      "outputs": []
    },
    {
      "cell_type": "code",
      "metadata": {
        "id": "ZCq-HjZltHKb",
        "colab_type": "code",
        "colab": {
          "base_uri": "https://localhost:8080/",
          "height": 53
        },
        "outputId": "2d05649e-64f9-4caf-94d8-1f42814eddbc"
      },
      "source": [
        "train_ds = tf.data.Dataset.from_tensor_slices((train, train_label)).map(format_example)\n",
        "val_ds = tf.data.Dataset.from_tensor_slices((val, val_label)).map(format_example)"
      ],
      "execution_count": 30,
      "outputs": [
        {
          "output_type": "stream",
          "text": [
            "Format example called!\n",
            "Format example called!\n"
          ],
          "name": "stdout"
        }
      ]
    },
    {
      "cell_type": "code",
      "metadata": {
        "id": "r1QOVUADtIw2",
        "colab_type": "code",
        "colab": {}
      },
      "source": [
        "SHUFFLE_BUFFER_SIZE = 10000\n",
        "BATCH_SIZE = 32\n",
        "\n",
        "train_ds = train_ds.shuffle(SHUFFLE_BUFFER_SIZE).batch(BATCH_SIZE)\n",
        "val_ds = val_ds.batch(BATCH_SIZE)"
      ],
      "execution_count": 0,
      "outputs": []
    },
    {
      "cell_type": "code",
      "metadata": {
        "id": "dy4yg1SmtKDL",
        "colab_type": "code",
        "colab": {
          "base_uri": "https://localhost:8080/",
          "height": 71
        },
        "outputId": "ecf0afd9-8d74-4a98-f9ae-8055431acde7"
      },
      "source": [
        "for image, label in train_ds.take(1):\n",
        "    print(image.shape, label)"
      ],
      "execution_count": 32,
      "outputs": [
        {
          "output_type": "stream",
          "text": [
            "(32, 84, 84, 3) tf.Tensor(\n",
            "[83 17 35 22 24 52 56 85 41 79 49 78 37 20 27 47 36 77 60 37 81 97 17  3\n",
            " 36 20 12 78 54 78  4 66], shape=(32,), dtype=int32)\n"
          ],
          "name": "stdout"
        }
      ]
    },
    {
      "cell_type": "code",
      "metadata": {
        "id": "yvorwKi3tYL1",
        "colab_type": "code",
        "colab": {}
      },
      "source": [
        ""
      ],
      "execution_count": 0,
      "outputs": []
    }
  ]
}