{
  "nbformat": 4,
  "nbformat_minor": 0,
  "metadata": {
    "colab": {
      "name": "Mini_ImageNet_Classification.ipynb",
      "provenance": [],
      "toc_visible": true,
      "include_colab_link": true
    },
    "kernelspec": {
      "name": "python3",
      "display_name": "Python 3"
    },
    "accelerator": "GPU"
  },
  "cells": [
    {
      "cell_type": "markdown",
      "metadata": {
        "id": "view-in-github",
        "colab_type": "text"
      },
      "source": [
        "<a href=\"https://colab.research.google.com/github/ChoiJK/JK_Mini_ImgNet_Classification/blob/master/Mini_ImageNet_Classification.ipynb\" target=\"_parent\"><img src=\"https://colab.research.google.com/assets/colab-badge.svg\" alt=\"Open In Colab\"/></a>"
      ]
    },
    {
      "cell_type": "markdown",
      "metadata": {
        "id": "Bys9NwM5mx-b",
        "colab_type": "text"
      },
      "source": [
        "## Import"
      ]
    },
    {
      "cell_type": "code",
      "metadata": {
        "id": "CUarHCPlnECM",
        "colab_type": "code",
        "colab": {
          "base_uri": "https://localhost:8080/",
          "height": 35
        },
        "outputId": "291233c5-f18a-4897-ee11-47914f837d83"
      },
      "source": [
        "from __future__ import absolute_import, division, print_function, unicode_literals\n",
        "try:\n",
        "  # Colab only\n",
        "  %tensorflow_version 2.x\n",
        "except Exception:\n",
        "  pass\n",
        "\n",
        "import tensorflow as tf\n",
        "from tensorflow import keras\n",
        "from matplotlib import pyplot as plt\n",
        "import numpy as np\n",
        "import random\n",
        "import os\n",
        "import datetime\n",
        "\n",
        "from google.colab import drive"
      ],
      "execution_count": 1,
      "outputs": [
        {
          "output_type": "stream",
          "text": [
            "TensorFlow 2.x selected.\n"
          ],
          "name": "stdout"
        }
      ]
    },
    {
      "cell_type": "markdown",
      "metadata": {
        "id": "d2eiNL5BnNIe",
        "colab_type": "text"
      },
      "source": [
        "## DataSet Load"
      ]
    },
    {
      "cell_type": "code",
      "metadata": {
        "id": "RY0hpdtyoSDO",
        "colab_type": "code",
        "outputId": "6a7a0d7d-0aa6-4740-8f3f-89677139b471",
        "colab": {
          "base_uri": "https://localhost:8080/",
          "height": 127
        }
      },
      "source": [
        "drive.mount('/content/gdrive')"
      ],
      "execution_count": 2,
      "outputs": [
        {
          "output_type": "stream",
          "text": [
            "Go to this URL in a browser: https://accounts.google.com/o/oauth2/auth?client_id=947318989803-6bn6qk8qdgf4n4g3pfee6491hc0brc4i.apps.googleusercontent.com&redirect_uri=urn%3aietf%3awg%3aoauth%3a2.0%3aoob&response_type=code&scope=email%20https%3a%2f%2fwww.googleapis.com%2fauth%2fdocs.test%20https%3a%2f%2fwww.googleapis.com%2fauth%2fdrive%20https%3a%2f%2fwww.googleapis.com%2fauth%2fdrive.photos.readonly%20https%3a%2f%2fwww.googleapis.com%2fauth%2fpeopleapi.readonly\n",
            "\n",
            "Enter your authorization code:\n",
            "··········\n",
            "Mounted at /content/gdrive\n"
          ],
          "name": "stdout"
        }
      ]
    },
    {
      "cell_type": "code",
      "metadata": {
        "id": "-eQ8cFHsnSBL",
        "colab_type": "code",
        "colab": {}
      },
      "source": [
        "#load mini-imagenet dataset file from www.youplayai.com\n",
        "train= np.load('./gdrive/My Drive/_DL/DataSet/Mini_ImageNet/train.npy')\n",
        "val = np.load('./gdrive/My Drive/_DL/DataSet/Mini_ImageNet/val.npy')\n",
        "#test = np.load('test.npy')\n",
        "train_label= np.load('./gdrive/My Drive/_DL/DataSet/Mini_ImageNet/train_label.npy')\n",
        "val_label = np.load('./gdrive/My Drive/_DL/DataSet/Mini_ImageNet/val_label.npy')\n",
        "#test_label = np.load('test_label.npy')"
      ],
      "execution_count": 0,
      "outputs": []
    },
    {
      "cell_type": "code",
      "metadata": {
        "id": "4_K5Q8Bka1Dp",
        "colab_type": "code",
        "colab": {}
      },
      "source": [
        "IMG_SIZE = 84\n",
        "IMG_SHAPE = (IMG_SIZE, IMG_SIZE, 3)"
      ],
      "execution_count": 0,
      "outputs": []
    },
    {
      "cell_type": "code",
      "metadata": {
        "id": "c70Oysl3sw-8",
        "colab_type": "code",
        "outputId": "4f34157f-eaf6-4f87-d0af-863b6d52fbe5",
        "colab": {
          "base_uri": "https://localhost:8080/",
          "height": 71
        }
      },
      "source": [
        "print([train.shape[0]*train.shape[1], train.shape[2], train.shape[3], train.shape[4]])\n",
        "print(train.shape[0])\n",
        "print(train.shape[1])"
      ],
      "execution_count": 23,
      "outputs": [
        {
          "output_type": "stream",
          "text": [
            "[50000, 84, 84, 3]\n",
            "100\n",
            "500\n"
          ],
          "name": "stdout"
        }
      ]
    },
    {
      "cell_type": "code",
      "metadata": {
        "id": "p7FX2PLfs1nq",
        "colab_type": "code",
        "colab": {}
      },
      "source": [
        "train = np.reshape(train, [train.shape[0]*train.shape[1], train.shape[2], train.shape[3], train.shape[4]])\n",
        "train_label = np.reshape(train_label, [train_label.shape[0]*train_label.shape[1]])\n",
        "val = np.reshape(val, [val.shape[0]*val.shape[1], val.shape[2], val.shape[3], val.shape[4]])\n",
        "val_label = np.reshape(val_label, [val_label.shape[0]*val_label.shape[1]])\n",
        "#test = np.reshape(test, [test.shape[0]*test.shape[1], test.shape[2], test.shape[3], test.shape[4]])\n",
        "#test_label = np.reshape(test_label, [test_label.shape[0]*test_label.shape[1]])"
      ],
      "execution_count": 0,
      "outputs": []
    },
    {
      "cell_type": "code",
      "metadata": {
        "id": "g1U5V8FXs498",
        "colab_type": "code",
        "outputId": "01a7ee21-5150-4248-ae3d-493f52ee0a1d",
        "colab": {
          "base_uri": "https://localhost:8080/",
          "height": 53
        }
      },
      "source": [
        "print(train.shape, train_label.shape)\n",
        "print(val.shape, val_label.shape)\n",
        "#print(test.shape, test_label.shape)"
      ],
      "execution_count": 25,
      "outputs": [
        {
          "output_type": "stream",
          "text": [
            "(50000, 84, 84, 3) (50000,)\n",
            "(5000, 84, 84, 3) (5000,)\n"
          ],
          "name": "stdout"
        }
      ]
    },
    {
      "cell_type": "code",
      "metadata": {
        "id": "ZeZKOcYDs9BJ",
        "colab_type": "code",
        "colab": {}
      },
      "source": [
        "randomize = np.arange(len(train))\n",
        "np.random.shuffle(randomize)\n",
        "train = train[randomize]\n",
        "train_label = train_label[randomize]"
      ],
      "execution_count": 0,
      "outputs": []
    },
    {
      "cell_type": "markdown",
      "metadata": {
        "id": "wv2UFxJmtAUC",
        "colab_type": "text"
      },
      "source": [
        "## Data Pipeline"
      ]
    },
    {
      "cell_type": "code",
      "metadata": {
        "id": "tTUJuoChtFyz",
        "colab_type": "code",
        "colab": {}
      },
      "source": [
        "def augment_data(image, label):\n",
        "  print(\"Augment data called!\")\n",
        "  image = tf.image.random_flip_left_right(image)\n",
        "  image = tf.image.random_contrast(image, lower=0.0, upper=1.0)\n",
        "  # Add more augmentation of your choice\n",
        "  return image, label\n",
        "\n",
        "  def format_example(image, label):\n",
        "    print(\"Format example called!\")\n",
        "    image = tf.cast(image, tf.float32)\n",
        "    image = image / 255.0\n",
        "    return augment_data(image, label)"
      ],
      "execution_count": 0,
      "outputs": []
    },
    {
      "cell_type": "code",
      "metadata": {
        "id": "ZCq-HjZltHKb",
        "colab_type": "code",
        "outputId": "ef8c9015-ed08-4adb-a3a5-fc6fe52963fa",
        "colab": {
          "base_uri": "https://localhost:8080/",
          "height": 53
        }
      },
      "source": [
        "train_ds = tf.data.Dataset.from_tensor_slices((train, train_label)).map(format_example)\n",
        "val_ds = tf.data.Dataset.from_tensor_slices((val, val_label)).map(format_example)"
      ],
      "execution_count": 99,
      "outputs": [
        {
          "output_type": "stream",
          "text": [
            "Format example called!\n",
            "Format example called!\n"
          ],
          "name": "stdout"
        }
      ]
    },
    {
      "cell_type": "code",
      "metadata": {
        "id": "r1QOVUADtIw2",
        "colab_type": "code",
        "colab": {}
      },
      "source": [
        "SHUFFLE_BUFFER_SIZE = 10000\n",
        "BATCH_SIZE = 32\n",
        "\n",
        "train_ds = train_ds.shuffle(SHUFFLE_BUFFER_SIZE).batch(BATCH_SIZE)\n",
        "val_ds = val_ds.batch(BATCH_SIZE)"
      ],
      "execution_count": 0,
      "outputs": []
    },
    {
      "cell_type": "code",
      "metadata": {
        "id": "dy4yg1SmtKDL",
        "colab_type": "code",
        "outputId": "da6268b5-207e-4911-c701-8f4d9a53e5c7",
        "colab": {
          "base_uri": "https://localhost:8080/",
          "height": 71
        }
      },
      "source": [
        "for image, label in train_ds.take(1):\n",
        "    print(image.shape, label)"
      ],
      "execution_count": 101,
      "outputs": [
        {
          "output_type": "stream",
          "text": [
            "(32, 84, 84, 3) tf.Tensor(\n",
            "[35 39 19 34  1 30 95 89 60 95 87 27 96  6 62 29 84 10 84 60  9 62  4 14\n",
            " 35  9 91 51 86 74 77 56], shape=(32,), dtype=int32)\n"
          ],
          "name": "stdout"
        }
      ]
    },
    {
      "cell_type": "markdown",
      "metadata": {
        "id": "b-xmCAZlaf13",
        "colab_type": "text"
      },
      "source": [
        "## Create Model"
      ]
    },
    {
      "cell_type": "code",
      "metadata": {
        "id": "GmXM2wz3aii9",
        "colab_type": "code",
        "colab": {}
      },
      "source": [
        "def create_model():\n",
        "    img_inputs = keras.Input(shape=IMG_SHAPE)\n",
        "    conv_1 = keras.layers.Conv2D(32, (3, 3))(img_inputs)\n",
        "    batchNorm_1 = keras.layers.BatchNormalization()(conv_1)\n",
        "    activ_1 = keras.layers.Activation('relu')(batchNorm_1)\n",
        "    maxpool_1 = keras.layers.MaxPooling2D((2, 2))(activ_1)\n",
        "    conv_2 = keras.layers.Conv2D(64, (3, 3))(maxpool_1)\n",
        "    batchNorm_2 = keras.layers.BatchNormalization()(conv_2)\n",
        "    activ_2 = keras.layers.Activation('relu')(batchNorm_2)\n",
        "    maxpool_2 = keras.layers.MaxPooling2D((2, 2))(activ_2)\n",
        "    conv_3 = keras.layers.Conv2D(64, (3, 3))(maxpool_2)\n",
        "    batchNorm_3 = keras.layers.BatchNormalization()(conv_3)\n",
        "    activ_3 = keras.layers.Activation('relu')(batchNorm_3)\n",
        "    flatten = keras.layers.Flatten()(activ_3)\n",
        "    #dense_1 = keras.layers.Dense(256, activation='relu')(flatten)\n",
        "    output = keras.layers.Dense(100, activation='softmax')(flatten)  # 레이블 개수는 100개\n",
        "\n",
        "    model = keras.Model(inputs=img_inputs, outputs=output)\n",
        "    \n",
        "    return model"
      ],
      "execution_count": 0,
      "outputs": []
    },
    {
      "cell_type": "code",
      "metadata": {
        "id": "_siwPZqCanXl",
        "colab_type": "code",
        "colab": {
          "base_uri": "https://localhost:8080/",
          "height": 665
        },
        "outputId": "4db2e93b-235d-4cee-c6e1-da8db1c2d700"
      },
      "source": [
        "simple_model = create_model()\n",
        "simple_model.summary()"
      ],
      "execution_count": 103,
      "outputs": [
        {
          "output_type": "stream",
          "text": [
            "Model: \"model_10\"\n",
            "_________________________________________________________________\n",
            "Layer (type)                 Output Shape              Param #   \n",
            "=================================================================\n",
            "input_14 (InputLayer)        [(None, 84, 84, 3)]       0         \n",
            "_________________________________________________________________\n",
            "conv2d_37 (Conv2D)           (None, 82, 82, 32)        896       \n",
            "_________________________________________________________________\n",
            "batch_normalization_7 (Batch (None, 82, 82, 32)        128       \n",
            "_________________________________________________________________\n",
            "activation_27 (Activation)   (None, 82, 82, 32)        0         \n",
            "_________________________________________________________________\n",
            "max_pooling2d_24 (MaxPooling (None, 41, 41, 32)        0         \n",
            "_________________________________________________________________\n",
            "conv2d_38 (Conv2D)           (None, 39, 39, 64)        18496     \n",
            "_________________________________________________________________\n",
            "batch_normalization_8 (Batch (None, 39, 39, 64)        256       \n",
            "_________________________________________________________________\n",
            "activation_28 (Activation)   (None, 39, 39, 64)        0         \n",
            "_________________________________________________________________\n",
            "max_pooling2d_25 (MaxPooling (None, 19, 19, 64)        0         \n",
            "_________________________________________________________________\n",
            "conv2d_39 (Conv2D)           (None, 17, 17, 64)        36928     \n",
            "_________________________________________________________________\n",
            "batch_normalization_9 (Batch (None, 17, 17, 64)        256       \n",
            "_________________________________________________________________\n",
            "activation_29 (Activation)   (None, 17, 17, 64)        0         \n",
            "_________________________________________________________________\n",
            "flatten_12 (Flatten)         (None, 18496)             0         \n",
            "_________________________________________________________________\n",
            "dense_20 (Dense)             (None, 100)               1849700   \n",
            "=================================================================\n",
            "Total params: 1,906,660\n",
            "Trainable params: 1,906,340\n",
            "Non-trainable params: 320\n",
            "_________________________________________________________________\n"
          ],
          "name": "stdout"
        }
      ]
    },
    {
      "cell_type": "markdown",
      "metadata": {
        "id": "PgAeHgREcSDU",
        "colab_type": "text"
      },
      "source": [
        "## Training"
      ]
    },
    {
      "cell_type": "code",
      "metadata": {
        "id": "oIbhOUUycXzv",
        "colab_type": "code",
        "colab": {}
      },
      "source": [
        "import datetime, os\n",
        "\n",
        "log_dir=\"./gdrive/My Drive/_DL/DataSet/Mini_ImageNet/traning/logs/fit/\" + datetime.datetime.now().strftime(\"%Y%m%d-%H%M%S\")\n",
        "os.makedirs(log_dir)"
      ],
      "execution_count": 0,
      "outputs": []
    },
    {
      "cell_type": "code",
      "metadata": {
        "id": "DryulQuKdn6d",
        "colab_type": "code",
        "colab": {
          "base_uri": "https://localhost:8080/",
          "height": 53
        },
        "outputId": "72603dbe-2f0b-415d-fa20-6e327a4d3124"
      },
      "source": [
        "num_train = train.shape[0]\n",
        "num_val = val.shape[0]\n",
        "\n",
        "steps_per_epoch = round(num_train)//BATCH_SIZE\n",
        "validation_steps = round(num_val)//BATCH_SIZE\n",
        "\n",
        "print(num_train)\n",
        "print(num_val)"
      ],
      "execution_count": 105,
      "outputs": [
        {
          "output_type": "stream",
          "text": [
            "50000\n",
            "5000\n"
          ],
          "name": "stdout"
        }
      ]
    },
    {
      "cell_type": "code",
      "metadata": {
        "id": "1Ib8bDbxc2AE",
        "colab_type": "code",
        "colab": {}
      },
      "source": [
        "def train_model(model):\n",
        "    model.compile(optimizer='adam',\n",
        "                  loss='sparse_categorical_crossentropy',\n",
        "                  metrics=['accuracy'])\n",
        "\n",
        "    # Creating Keras callbacks \n",
        "    tensorboard_callback = keras.callbacks.TensorBoard(log_dir=log_dir, histogram_freq=1)\n",
        "    model_checkpoint_callback = keras.callbacks.ModelCheckpoint(\n",
        "        './gdrive/My Drive/_DL/DataSet/Mini_ImageNet/traning/training_checkpoints/weights.{epoch:02d}-{val_loss:.2f}.hdf5', period=5)\n",
        "    os.makedirs('./gdrive/My Drive/_DL/DataSet/Mini_ImageNet/traning/training_checkpoints/', exist_ok=True)\n",
        "    early_stopping_checkpoint = keras.callbacks.EarlyStopping(patience=5)\n",
        "\n",
        "    history = model.fit(train_ds.repeat(),\n",
        "              epochs=300, \n",
        "              steps_per_epoch=steps_per_epoch,\n",
        "              validation_data=val_ds.repeat(),\n",
        "              validation_steps=validation_steps,\n",
        "              callbacks=[tensorboard_callback,\n",
        "                         model_checkpoint_callback,\n",
        "                         early_stopping_checkpoint])\n",
        "    \n",
        "    model.save('./gdrive/My Drive/_DL/DataSet/Mini_ImageNet/traning/mini_Imagenet_Test_JK.h5')\n",
        "\n",
        "    return history"
      ],
      "execution_count": 0,
      "outputs": []
    },
    {
      "cell_type": "code",
      "metadata": {
        "id": "U0_gKhJBdJ4Z",
        "colab_type": "code",
        "colab": {
          "base_uri": "https://localhost:8080/",
          "height": 233
        },
        "outputId": "39ffb95d-8e22-4b6c-e02c-352f928b3b43"
      },
      "source": [
        "history = train_model(simple_model)"
      ],
      "execution_count": 107,
      "outputs": [
        {
          "output_type": "stream",
          "text": [
            "WARNING:tensorflow:`period` argument is deprecated. Please use `save_freq` to specify the frequency in number of samples seen.\n",
            "Train for 1562 steps, validate for 156 steps\n",
            "Epoch 1/5\n",
            "1562/1562 [==============================] - 17s 11ms/step - loss: 3.8917 - accuracy: 0.1917 - val_loss: 3.3865 - val_accuracy: 0.2155\n",
            "Epoch 2/5\n",
            "1562/1562 [==============================] - 15s 10ms/step - loss: 2.5140 - accuracy: 0.3827 - val_loss: 3.0639 - val_accuracy: 0.2865\n",
            "Epoch 3/5\n",
            "1562/1562 [==============================] - 17s 11ms/step - loss: 1.6995 - accuracy: 0.5607 - val_loss: 3.4021 - val_accuracy: 0.2648\n",
            "Epoch 4/5\n",
            "1562/1562 [==============================] - 17s 11ms/step - loss: 0.8493 - accuracy: 0.7702 - val_loss: 4.2000 - val_accuracy: 0.2588\n",
            "Epoch 5/5\n",
            "1562/1562 [==============================] - 17s 11ms/step - loss: 0.3891 - accuracy: 0.8917 - val_loss: 4.7646 - val_accuracy: 0.2410\n"
          ],
          "name": "stdout"
        }
      ]
    },
    {
      "cell_type": "code",
      "metadata": {
        "id": "rxL5iUhidSU3",
        "colab_type": "code",
        "colab": {
          "base_uri": "https://localhost:8080/",
          "height": 513
        },
        "outputId": "3e287f93-c32e-4cd2-eff5-36731259d49a"
      },
      "source": [
        "acc = history.history['accuracy']\n",
        "val_acc = history.history['val_accuracy']\n",
        "\n",
        "loss = history.history['loss']\n",
        "val_loss = history.history['val_loss']\n",
        "\n",
        "plt.figure(figsize=(8, 8))\n",
        "plt.subplot(2, 1, 1)\n",
        "plt.plot(acc, label='Training Accuracy')\n",
        "plt.plot(val_acc, label='Validation Accuracy')\n",
        "plt.legend(loc='lower right')\n",
        "plt.ylabel('Accuracy')\n",
        "plt.title('Training and Validation Accuracy')\n",
        "\n",
        "plt.subplot(2, 1, 2)\n",
        "plt.plot(loss, label='Training Loss')\n",
        "plt.plot(val_loss, label='Validation Loss')\n",
        "plt.legend(loc='upper right')\n",
        "plt.ylabel('Cross Entropy')\n",
        "plt.title('Training and Validation Loss')\n",
        "plt.xlabel('epoch')\n",
        "plt.show()"
      ],
      "execution_count": 97,
      "outputs": [
        {
          "output_type": "display_data",
          "data": {
            "image/png": "[encoded data removed]",
            "text/plain": [
              "<Figure size 576x576 with 2 Axes>"
            ]
          },
          "metadata": {
            "tags": []
          }
        }
      ]
    },
    {
      "cell_type": "markdown",
      "metadata": {
        "id": "7uTcDvEzfFA8",
        "colab_type": "text"
      },
      "source": [
        "## Save / Load Example"
      ]
    },
    {
      "cell_type": "code",
      "metadata": {
        "id": "BqS8qWsgfI1q",
        "colab_type": "code",
        "colab": {}
      },
      "source": [
        "inception_model.save('inception_v3_128_tf_flowes.h5')"
      ],
      "execution_count": 0,
      "outputs": []
    },
    {
      "cell_type": "code",
      "metadata": {
        "id": "0OVI42BbfJJi",
        "colab_type": "code",
        "colab": {}
      },
      "source": [
        "loaded_model = keras.models.load_model('inception_v3_128_tf_flowes.h5')\n",
        "loaded_model.evaluate(test)"
      ],
      "execution_count": 0,
      "outputs": []
    }
  ]
}